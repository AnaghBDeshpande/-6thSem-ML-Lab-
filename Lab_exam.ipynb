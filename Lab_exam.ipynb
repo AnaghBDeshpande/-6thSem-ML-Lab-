{
  "nbformat": 4,
  "nbformat_minor": 0,
  "metadata": {
    "colab": {
      "provenance": [],
      "authorship_tag": "ABX9TyMKKHralbpeR351Bea7FQpe",
      "include_colab_link": true
    },
    "kernelspec": {
      "name": "python3",
      "display_name": "Python 3"
    },
    "language_info": {
      "name": "python"
    }
  },
  "cells": [
    {
      "cell_type": "markdown",
      "metadata": {
        "id": "view-in-github",
        "colab_type": "text"
      },
      "source": [
        "<a href=\"https://colab.research.google.com/github/AnaghBDeshpande/-6thSem-ML-Lab-/blob/main/Lab_exam.ipynb\" target=\"_parent\"><img src=\"https://colab.research.google.com/assets/colab-badge.svg\" alt=\"Open In Colab\"/></a>"
      ]
    },
    {
      "cell_type": "markdown",
      "source": [
        "Linear Regression"
      ],
      "metadata": {
        "id": "nM3Idz1Oe_dN"
      }
    },
    {
      "cell_type": "code",
      "execution_count": 8,
      "metadata": {
        "colab": {
          "base_uri": "https://localhost:8080/"
        },
        "id": "-eaL_3vZc_9C",
        "outputId": "96476833-7751-49a2-e1e1-2fdeb5c2f4db"
      },
      "outputs": [
        {
          "output_type": "stream",
          "name": "stdout",
          "text": [
            "Linear Regression Performance Metrics:\n",
            "Mean Absolute Error (MAE): 1.01\n",
            "Mean Squared Error (MSE): 1.04\n",
            "Root Mean Squared Error (RMSE): 1.02\n",
            "\n",
            "Model Coefficients:\n",
            "Intercept: 32.87\n",
            "Height coefficient: 0.3534\n",
            "Weight coefficient: 0.4503\n",
            "\n",
            "Predicted Blood Pressure for height 170cm, weight 70kg: 124.5 mmHg\n"
          ]
        },
        {
          "output_type": "stream",
          "name": "stderr",
          "text": [
            "/usr/local/lib/python3.11/dist-packages/sklearn/utils/validation.py:2739: UserWarning: X does not have valid feature names, but LinearRegression was fitted with feature names\n",
            "  warnings.warn(\n"
          ]
        }
      ],
      "source": [
        "import pandas as pd\n",
        "from sklearn.linear_model import LinearRegression\n",
        "from sklearn.model_selection import train_test_split\n",
        "from sklearn.metrics import mean_absolute_error, mean_squared_error\n",
        "import numpy as np\n",
        "\n",
        "# Dataset\n",
        "data = {\n",
        "    'Height (cm)': [165, 172, 158, 185, 170, 162, 175, 168, 180, 155, 167, 182, 173, 160, 178],\n",
        "    'Weight (kg)': [62, 75, 58, 90, 68, 60, 77, 65, 85, 52, 63, 88, 72, 55, 80],\n",
        "    'Blood Pressure (mmHg)': [120, 125, 115, 140, 122, 118, 130, 121, 135, 112, 119, 138, 127, 116, 132]\n",
        "}\n",
        "\n",
        "df = pd.DataFrame(data)\n",
        "\n",
        "# Prepare data\n",
        "X = df[['Height (cm)', 'Weight (kg)']]\n",
        "y = df['Blood Pressure (mmHg)']\n",
        "\n",
        "# Split data\n",
        "X_train, X_test, y_train, y_test = train_test_split(X, y, test_size=0.2, random_state=42)\n",
        "\n",
        "# Train model\n",
        "model = LinearRegression()\n",
        "model.fit(X_train, y_train)\n",
        "\n",
        "# Make predictions\n",
        "y_pred = model.predict(X_test)\n",
        "\n",
        "# Calculate metrics\n",
        "mae = mean_absolute_error(y_test, y_pred)\n",
        "mse = mean_squared_error(y_test, y_pred)\n",
        "rmse = np.sqrt(mse)\n",
        "\n",
        "# Print results\n",
        "print(\"Linear Regression Performance Metrics:\")\n",
        "print(f\"Mean Absolute Error (MAE): {mae:.2f}\")\n",
        "print(f\"Mean Squared Error (MSE): {mse:.2f}\")\n",
        "print(f\"Root Mean Squared Error (RMSE): {rmse:.2f}\")\n",
        "\n",
        "# Print coefficients\n",
        "print(\"\\nModel Coefficients:\")\n",
        "print(f\"Intercept: {model.intercept_:.2f}\")\n",
        "print(f\"Height coefficient: {model.coef_[0]:.4f}\")\n",
        "print(f\"Weight coefficient: {model.coef_[1]:.4f}\")\n",
        "\n",
        "# Example prediction\n",
        "new_data = [[170, 70]]\n",
        "new_pred = model.predict(new_data)\n",
        "print(f\"\\nPredicted Blood Pressure for height 170cm, weight 70kg: {new_pred[0]:.1f} mmHg\")"
      ]
    },
    {
      "cell_type": "markdown",
      "source": [
        "Random Forest"
      ],
      "metadata": {
        "id": "8MJQRMNBe8Ur"
      }
    },
    {
      "cell_type": "code",
      "source": [
        "import pandas as pd\n",
        "from sklearn.ensemble import RandomForestClassifier\n",
        "from sklearn.model_selection import train_test_split\n",
        "from sklearn.metrics import confusion_matrix, classification_report\n",
        "import seaborn as sns\n",
        "import matplotlib.pyplot as plt\n",
        "\n",
        "data = {\n",
        "    'Height (cm)': [165, 172, 158, 185, 170, 162, 175, 168, 180, 155, 167, 182, 173, 160, 178],\n",
        "    'Weight (kg)': [62, 75, 58, 90, 68, 60, 77, 65, 85, 52, 63, 88, 72, 55, 80],\n",
        "    'Blood Pressure (mmHg)': [120, 125, 115, 140, 122, 118, 130, 121, 135, 112, 119, 138, 127, 116, 132]\n",
        "}\n",
        "\n",
        "df = pd.DataFrame(data)\n",
        "\n",
        "df['BP_Class'] = ['High' if x >= 130 else 'Normal' for x in df['Blood Pressure (mmHg)']]\n",
        "\n",
        "print(\"Dataset with Classes:\")\n",
        "print(df)\n",
        "\n",
        "X = df[['Height (cm)', 'Weight (kg)']]\n",
        "y = df['BP_Class']\n",
        "\n",
        "X_train, X_test, y_train, y_test = train_test_split(X, y, test_size=0.2, random_state=42)\n",
        "\n",
        "rf_model = RandomForestClassifier(n_estimators=100, random_state=42)\n",
        "rf_model.fit(X_train, y_train)\n",
        "\n",
        "y_pred = rf_model.predict(X_test)\n",
        "\n",
        "print(\"\\nClassification Report:\")\n",
        "print(classification_report(y_test, y_pred))\n",
        "\n",
        "cm = confusion_matrix(y_test, y_pred)\n",
        "print(\"\\nConfusion Matrix:\")\n",
        "print(cm)\n",
        "\n",
        "plt.figure(figsize=(6,4))\n",
        "sns.heatmap(cm, annot=True, fmt='d', cmap='Blues',\n",
        "            xticklabels=rf_model.classes_,\n",
        "            yticklabels=rf_model.classes_)\n",
        "plt.xlabel('Predicted')\n",
        "plt.ylabel('Actual')\n",
        "plt.title('Confusion Matrix')\n",
        "plt.show()\n",
        "\n",
        "new_data = [[170, 70], [160, 55]]\n",
        "new_pred = rf_model.predict(new_data)\n",
        "print(\"\\nPredicted Classes for new data:\")\n",
        "for i, pred in enumerate(new_pred):\n",
        "    print(f\"Height: {new_data[i][0]} cm, Weight: {new_data[i][1]} kg → Predicted Class: {pred}\")"
      ],
      "metadata": {
        "colab": {
          "base_uri": "https://localhost:8080/",
          "height": 1000
        },
        "id": "S3VGv9B9dA0s",
        "outputId": "ac3e06e8-dafa-491f-a6f0-a537f9052eac"
      },
      "execution_count": 3,
      "outputs": [
        {
          "output_type": "stream",
          "name": "stdout",
          "text": [
            "Dataset with Classes:\n",
            "    Height (cm)  Weight (kg)  Blood Pressure (mmHg) BP_Class\n",
            "0           165           62                    120   Normal\n",
            "1           172           75                    125   Normal\n",
            "2           158           58                    115   Normal\n",
            "3           185           90                    140     High\n",
            "4           170           68                    122   Normal\n",
            "5           162           60                    118   Normal\n",
            "6           175           77                    130     High\n",
            "7           168           65                    121   Normal\n",
            "8           180           85                    135     High\n",
            "9           155           52                    112   Normal\n",
            "10          167           63                    119   Normal\n",
            "11          182           88                    138     High\n",
            "12          173           72                    127   Normal\n",
            "13          160           55                    116   Normal\n",
            "14          178           80                    132     High\n",
            "\n",
            "Classification Report:\n",
            "              precision    recall  f1-score   support\n",
            "\n",
            "        High       1.00      1.00      1.00         1\n",
            "      Normal       1.00      1.00      1.00         2\n",
            "\n",
            "    accuracy                           1.00         3\n",
            "   macro avg       1.00      1.00      1.00         3\n",
            "weighted avg       1.00      1.00      1.00         3\n",
            "\n",
            "\n",
            "Confusion Matrix:\n",
            "[[1 0]\n",
            " [0 2]]\n"
          ]
        },
        {
          "output_type": "display_data",
          "data": {
            "text/plain": [
              "<Figure size 600x400 with 2 Axes>"
            ],
            "image/png": "[encoded data removed]"
          },
          "metadata": {}
        },
        {
          "output_type": "stream",
          "name": "stdout",
          "text": [
            "\n",
            "Predicted Classes for new data:\n",
            "Height: 170 cm, Weight: 70 kg → Predicted Class: Normal\n",
            "Height: 160 cm, Weight: 55 kg → Predicted Class: Normal\n"
          ]
        },
        {
          "output_type": "stream",
          "name": "stderr",
          "text": [
            "/usr/local/lib/python3.11/dist-packages/sklearn/utils/validation.py:2739: UserWarning: X does not have valid feature names, but RandomForestClassifier was fitted with feature names\n",
            "  warnings.warn(\n"
          ]
        }
      ]
    },
    {
      "cell_type": "markdown",
      "source": [
        "Support Vector Machine"
      ],
      "metadata": {
        "id": "xtFdxrwbe3wD"
      }
    },
    {
      "cell_type": "code",
      "source": [
        "from sklearn.svm import SVC\n",
        "from sklearn.metrics import confusion_matrix, classification_report\n",
        "import seaborn as sns\n",
        "import matplotlib.pyplot as plt\n",
        "\n",
        "df['BP_Class'] = ['High' if x >= 130 else 'Normal' for x in df['Blood Pressure (mmHg)']]\n",
        "\n",
        "X = df[['Height (cm)', 'Weight (kg)']]\n",
        "y = df['BP_Class']\n",
        "\n",
        "scaler = StandardScaler()\n",
        "X_scaled = scaler.fit_transform(X)\n",
        "\n",
        "X_train, X_test, y_train, y_test = train_test_split(X_scaled, y, test_size=0.2, random_state=42)\n",
        "\n",
        "svm_clf = SVC(kernel='rbf', C=1.0)\n",
        "svm_clf.fit(X_train, y_train)\n",
        "\n",
        "y_pred = svm_clf.predict(X_test)\n",
        "\n",
        "print(\"\\nSVM Classification Report:\")\n",
        "print(classification_report(y_test, y_pred))\n",
        "\n",
        "cm = confusion_matrix(y_test, y_pred)\n",
        "print(\"Confusion Matrix:\")\n",
        "print(cm)\n",
        "\n",
        "plt.figure(figsize=(6,4))\n",
        "sns.heatmap(cm, annot=True, fmt='d', cmap='Blues',\n",
        "            xticklabels=svm_clf.classes_,\n",
        "            yticklabels=svm_clf.classes_)\n",
        "plt.title('SVM Confusion Matrix')\n",
        "plt.xlabel('Predicted')\n",
        "plt.ylabel('Actual')\n",
        "plt.show()\n",
        "\n",
        "new_data = scaler.transform([[170, 70], [160, 55]])\n",
        "new_pred = svm_clf.predict(new_data)\n",
        "print(\"\\nNew Class Predictions:\")\n",
        "for i, pred in enumerate(new_pred):\n",
        "    print(f\"Case {i+1}: {pred}\")"
      ],
      "metadata": {
        "colab": {
          "base_uri": "https://localhost:8080/",
          "height": 757
        },
        "id": "20Uf6RFYdvOh",
        "outputId": "a4a655c5-4549-4270-fbd4-5f78dd046d8f"
      },
      "execution_count": 7,
      "outputs": [
        {
          "output_type": "stream",
          "name": "stdout",
          "text": [
            "\n",
            "SVM Classification Report:\n",
            "              precision    recall  f1-score   support\n",
            "\n",
            "        High       1.00      1.00      1.00         1\n",
            "      Normal       1.00      1.00      1.00         2\n",
            "\n",
            "    accuracy                           1.00         3\n",
            "   macro avg       1.00      1.00      1.00         3\n",
            "weighted avg       1.00      1.00      1.00         3\n",
            "\n",
            "Confusion Matrix:\n",
            "[[1 0]\n",
            " [0 2]]\n"
          ]
        },
        {
          "output_type": "display_data",
          "data": {
            "text/plain": [
              "<Figure size 600x400 with 2 Axes>"
            ],
            "image/png": "[encoded data removed]"
          },
          "metadata": {}
        },
        {
          "output_type": "stream",
          "name": "stdout",
          "text": [
            "\n",
            "New Class Predictions:\n",
            "Case 1: Normal\n",
            "Case 2: Normal\n"
          ]
        },
        {
          "output_type": "stream",
          "name": "stderr",
          "text": [
            "/usr/local/lib/python3.11/dist-packages/sklearn/utils/validation.py:2739: UserWarning: X does not have valid feature names, but StandardScaler was fitted with feature names\n",
            "  warnings.warn(\n"
          ]
        }
      ]
    },
    {
      "cell_type": "code",
      "source": [],
      "metadata": {
        "id": "-mZvACtPd2TO"
      },
      "execution_count": null,
      "outputs": []
    }
  ]
}